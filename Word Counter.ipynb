{
 "cells": [
  {
   "cell_type": "markdown",
   "id": "6a252afa",
   "metadata": {},
   "source": [
    "# Minor project on Word Counter"
   ]
  },
  {
   "cell_type": "code",
   "execution_count": null,
   "id": "39c51492",
   "metadata": {},
   "outputs": [],
   "source": [
    "  \n",
    "# Open a text file for reading\n",
    "with open('Spending-time-with-friends-and-loved-ones.txt', 'r') as file:\n",
    "    file_contents = file.read()"
   ]
  },
  {
   "cell_type": "code",
   "execution_count": 15,
   "id": "7b16b30a",
   "metadata": {},
   "outputs": [
    {
     "name": "stdout",
     "output_type": "stream",
     "text": [
      "Spending time with friends and loved ones\n",
      "Thanksgiving is when many people gather with whom they care about and turn to in times of need. It's a reminder of how meaningful human connections are, whether around the dinner table, in front of the TV, or through your favorite digital devices.\n",
      "Love connection\n",
      "Some might remember AT&T's tagline, \"Reach out and touch someone,\" in reference to person-to-person phone calls. Though the conduits for those conversations have expanded, the brand remains dedicated to keeping the lines of communication open and available.\n",
      "@ATT doesn't use its Reach out and touch someone tagline, but it still promotes connection. Its Love Connections campaign does just that, says @joderama via @CMIContent.CLICK TO TWEET\n",
      "In its Love Connections campaign, personal communication isn't just a holiday obligation - it's a vital necessity. The raw documentary video series highlights the life experiences of members of the LGBTQ+ community who rely heavily on their trusted connections to reinforce their sense of belonging.\n",
      "For example, in the inaugural video (below), Alok - a gender nonconforming person - describes the harassment and antagonistic remarks about their flamboyant appearance. Despite experiencing that negativity, they don't hesitate to live on their own terms and encourage others to do the same.\n",
      "\n",
      "The Love Connection sparked meaningful conversations among the LGBTQ+ community, their allies, and even their detractors. The brand furthered its commitment by supporting The Trevor Project - an organization aimed at suicide prevention and crisis intervention for LGBTQ youth. You'll find more details on this campaign in 5 Lessons From the Content Marketing Awards Project of the Year Finalists.\n",
      "Reaching consumers' hearts through their stomachs\n",
      "Some consumers may have packed away their sourdough starters in favor of new dinner reservations, but there's no substitute for a home-cooked meal shared with friends and family. To evoke similar feelings of comfort and connection, marketers fill their plates and content platforms with tempting, food-focused fare.\n",
      "McCain cookbook creator\n",
      "Many families bond by passing down recipes through the generations. McCain Foods turned that tradition into a branded kitchen keepsake with McCain Family Cookbook Brought to You by Food24.\n",
      "With the help of its content marketing agency New Media and South African foodie site Food24, McCain developed a first-of-its-kind Cookbook Creator tool. As explained in this video, it lets users upload six favorite family recipes, along with personal notes and photos.\n",
      "Top recipes from Food24 and McCain rounded out each collection. Each custom book was printed and delivered to the consumer who created it.\n",
      "The effort strengthened McCain's position as a meal prep partner while creating a memorable - and lasting - association between the brand and home-cooked family meals.\n",
      "For more details on this campaign, read Where There's a Goal, There's a Way: 4 Strategy-Led Content Programs.\n",
      "Butterball Talk-Line calendars\n",
      "Butterball is a brand practically synonymous with Thanksgiving's big bird.\n",
      "Its annual Turkey Talk-Line opened on Nov. 1 to answer questions and help prevent meal prep meltdowns. But this year, the brand also took the talk offline with a free calendar full of culinary expertise and extra emotional support.\n",
      "Known for its turkey hotline, @Butterball sold a 2022 Comfort Calendar filled with culinary expertise and extra emotional support. It sold out almost immediately, says @joderama via @CMIContent.CLICK TO TWEET\n",
      "The 2022 Comfort Calendar sold out way before Thanksgiving grocery shopping even started. But Butterball doesn't leave customers holding the (giblets) bag: It's stuffing its Instagram page with enough tasty tips to carry you through Christmas.\n",
      "Taking the turkey show on the road\n",
      "Consumers eagerly return to the skyways and byways for post-pandemic holiday reunions. Yet, travel providers still reel from almost three years of turbulence that shook their businesses to the core. Fortunately, their industry partners are helping them pull out of the tailspin with targeted content tools and inspiration.\n",
      "The Compass accelerates travel business recovery\n",
      "Leisure travel agents struggled as vacationers resumed their travels. They had to keep up with frequent regulatory changes, meet the surge in customer demand, and grow (or reopen) their businesses.\n",
      "Small boutique agencies have been particularly hard hit. But they can find much-needed support through The Compass, an editorial media brand launched by VAX VacationAccess to unite and assist its audience in the professional travel community.\n",
      "\n",
      "Image source\n",
      "The Compass Magazine and website are filled with timely industry education on topics like social media marketing, agent development, and hot travel destinations (as shown in the image above.)\n",
      "In addition, personal stories and perspectives from their fellow agents help reignite the readers' passion for traveling and inspire them to make their business a success.\n",
      "Fáilte Ireland sparks growth with customizable content assets\n",
      "The U.S. wasn't alone in pandemic-impacted travel businesses. Many businesses in Ireland's tourism industry struggled to stay afloat, lost staff, and/or had minimal marketing skills and little time for training.\n",
      "Those compounding concerns spurred Ireland's national tourism body, Fáilte Ireland, to launch a first-of-its-kind interactive toolkit. Keep Discovering provides the country's small and medium-sized businesses with short, easy-to-access content, customization services, and other practical resources - all free.\n",
      "This image of the toolkit's cover describes some of the Keep Discovering offerings - downloadable assets, social media calendar and email templates, and ready-to-go campaign images and videos.\n",
      "\n",
      "Image source\n",
      "With over 7,300 downloads of its branded assets and more than 5,000 visits to the toolkit page, Ireland's travel agents appreciated the help. According to 256 (the agency on the campaign), Keep Discovering helped regional tourism businesses to \"rally in huge numbers.\"\n",
      "To learn more about this campaign, read Want To Generate More Demand? Follow These 4 Content Tips.\n",
      "Get your game on\n",
      "Football is a popular pastime on U.S. Thanksgiving. Whether consumers plan to score some touchdowns in their yard or play armchair quarterback with a drink in their hands, a great content play can help push the excitement into overtime.\n",
      "Captain Morgan leads a cheer for the fans\n",
      "Football fans are known for going to great lengths to show support for their favorite teams. For its sponsorship of the National Football League's Fan of the Year contest, Diageo's rum brand Captain Morgan captured that excitement in a video-centric campaign.\n",
      "Captain Morgan brought on NFL legend Victor Cruz to host its We Bring on the Spice docuseries. Victor visited the top seven Fan-of-the-Year finalists and dove into their stories of devotion and how they share that passion with others in their fan communities.\n",
      "The resulting videos include the story of an LA-based New York Giants fan who travels 3,000 miles to attend games (shown in the video below) as well as a super fan who created a supporters' group that's now over 10,000 members strong.\n",
      "By giving these NFL super fans a video-centric platform to share their team love, Captain Morgan spiced up the football season - and left its signature flavor on the field for its audience to enjoy.\n",
      "Learn more about this effort, and other standout video content campaigns, in 4 Ways To Win With Video - The \"It\" Content Format for 2023.\n",
      "Get inspired to give back\n",
      "This year, Patagonia's founder put his company shares into a trust that will direct future profits to fight the climate crisis. Your brand doesn't need to take \"giving back\" to that extreme, but you can use your content platform for philanthropy and public service.\n",
      "Anheuser-Busch invests in preventing alcohol abuse\n",
      "Anheuser-Busch markets some of the world's most iconic beer brands, including Budweiser, Corona, and Michelob.\n",
      "But as Ahava Leibtag writes, it also donates money and creates content to educate consumers about the dangers of abusing and misusing its products, such as drunk driving, underage drinking, and binge drinking.\n",
      "That content includes Global Smart Drinking Goals, which Ahava describes as a set of programs and initiatives to reduce harmful alcohol use by focusing on shifting social norms, consumer behaviors, and their organization's business practices.\n",
      "The image below shows the age gate to access its site, reinforcing the brand's efforts to keep alcohol-related content out of the hands of visitors younger than the legal drinking age.\n",
      "\n",
      "Anheuser-Bush also shares content on Instagram using #DecidetoRide. In partnership with Uber and Mothers Against Drunk Driving (MADD), the efforts encourage consumers to call a ride-share service if they've been drinking alcohol during their holiday celebrations.\n",
      "\n",
      "Pepsi implements actions that help advance racial equality\n",
      "Many brands published anti-racism content following the murder of George Floyd in 2020. But Pepsi reinforced its public statements with a long-term commitment to the cause.\n",
      "That year, the beverage brand launched its racial equality journey initiative with a five-year plan and pledged a $400 million commitment to increase Black representation at PepsiCo, support Black businesses, and empower Black communities.\n",
      "Today, visitors to the PepsiCo site can find ongoing progress reports, details on the latest program elements, and results of the initiative to date.\n",
      "As Ahava writes, Pepsi reinforced its commitment to diversifying its workforce by recruiting potential job candidates from historically Black colleges and universities (HBCUs).\n",
      "The brand promotes this recruiting partnership through content like this HBCU Halftime Game video, which recognizes HBCU students' contributions on and off the field.\n",
      "To learn more about these two campaigns - and other examples of brands that give back, read Ahava's article, How To Raise Your Brand's Voice on Issues That Matter.\n",
      "Better yet, why not put your organization's diversity, equity, and inclusion (DEI) intentions in play - literally?\n",
      "Line 25 makes a game\n",
      "Line 25 Consulting is a practice dedicated to helping organizations expand their DEI viewpoint through guided training, customized workshops, and other service offerings. But recognizing an opportunity to make the lessons more engaging and actionable for marketing teams, agency founder Michelle Ngome created the Be Inclusive card game.\n",
      "Each card in the DEI deck features a prompt like, 'How do we practice DEI beyond social media' or 'How can we accommodate neurodiversity in the workplace'?\n",
      "\n",
      "Image source\n",
      "By facilitating productive conversations on these important issues, the game prepares teams to take the next logical step - finding meaningful solutions to address them.\n",
      "\n",
      "\n"
     ]
    }
   ],
   "source": [
    "print(file_contents)"
   ]
  },
  {
   "cell_type": "code",
   "execution_count": 16,
   "id": "e4c34074",
   "metadata": {},
   "outputs": [
    {
     "name": "stdout",
     "output_type": "stream",
     "text": [
      "Number of words in the text file: 1660\n"
     ]
    }
   ],
   "source": [
    "\n",
    "\n",
    "# Split the file contents into words using whitespace as the delimiter\n",
    "words = file_contents.split()\n",
    "\n",
    "\n",
    "def count_words(word_list):\n",
    "    # Count the number of words in the list\n",
    "    word_count = len(word_list)\n",
    "    return word_count\n",
    "\n",
    "\n",
    "\n",
    "\n",
    "\n",
    "# Call the function to count words in the list\n",
    "result = count_words(words)\n",
    "\n",
    "print(f\"Number of words in the text file: {result}\")"
   ]
  }
 ],
 "metadata": {
  "kernelspec": {
   "display_name": "Python 3 (ipykernel)",
   "language": "python",
   "name": "python3"
  },
  "language_info": {
   "codemirror_mode": {
    "name": "ipython",
    "version": 3
   },
   "file_extension": ".py",
   "mimetype": "text/x-python",
   "name": "python",
   "nbconvert_exporter": "python",
   "pygments_lexer": "ipython3",
   "version": "3.11.4"
  }
 },
 "nbformat": 4,
 "nbformat_minor": 5
}
